{
 "cells": [
  {
   "cell_type": "markdown",
   "metadata": {},
   "source": [
    "## 練習時間\n",
    "資料的操作有很多，接下來的馬拉松中我們會介紹常被使用到的操作，參加者不妨先自行想像一下，第一次看到資料，我們一般會想知道什麼訊息？\n",
    "\n",
    "#### Ex: 如何知道資料的 row 數以及 column 數、有什麼欄位、多少欄位、如何截取部分的資料等等\n",
    "\n",
    "有了對資料的好奇之後，我們又怎麼通過程式碼來達成我們的目的呢？\n",
    "\n",
    "#### 可參考該[基礎教材](https://bookdata.readthedocs.io/en/latest/base/01_pandas.html#DataFrame-%E5%85%A5%E9%97%A8)或自行 google"
   ]
  },
  {
   "cell_type": "markdown",
   "metadata": {},
   "source": [
    "# [作業目標]\n",
    "- 熟悉更多的 Python 資料操作"
   ]
  },
  {
   "cell_type": "markdown",
   "metadata": {},
   "source": [
    "# [作業重點]\n",
    "- 列出資料的大小 (In[4], Hint : shape)\n",
    "- 列出所有欄位 (In[5], 有多種寫法)\n",
    "- 擷取部分資料 (In[6], Hint : loc 或 iloc)"
   ]
  },
  {
   "cell_type": "code",
   "execution_count": 1,
   "metadata": {},
   "outputs": [],
   "source": [
    "import os\n",
    "import numpy as np\n",
    "import pandas as pd"
   ]
  },
  {
   "cell_type": "code",
   "execution_count": 9,
   "metadata": {},
   "outputs": [],
   "source": [
    "# 設定 data_path\n",
    "dir_data = './'"
   ]
  },
  {
   "cell_type": "code",
   "execution_count": 12,
   "metadata": {},
   "outputs": [
    {
     "name": "stdout",
     "output_type": "stream",
     "text": [
      "Path of read in data: ./NBA_Stats_71_Years.xlsx\n"
     ]
    }
   ],
   "source": [
    "data = os.path.join(dir_data, 'NBA_Stats_71_Years.xlsx')\n",
    "print('Path of read in data: %s' % (f_app))\n",
    "app_train = pd.read_excel(data)"
   ]
  },
  {
   "cell_type": "code",
   "execution_count": 13,
   "metadata": {},
   "outputs": [
    {
     "data": {
      "text/html": [
       "<div>\n",
       "<style scoped>\n",
       "    .dataframe tbody tr th:only-of-type {\n",
       "        vertical-align: middle;\n",
       "    }\n",
       "\n",
       "    .dataframe tbody tr th {\n",
       "        vertical-align: top;\n",
       "    }\n",
       "\n",
       "    .dataframe thead th {\n",
       "        text-align: right;\n",
       "    }\n",
       "</style>\n",
       "<table border=\"1\" class=\"dataframe\">\n",
       "  <thead>\n",
       "    <tr style=\"text-align: right;\">\n",
       "      <th></th>\n",
       "      <th>Rank</th>\n",
       "      <th>Year</th>\n",
       "      <th>Season Start Year</th>\n",
       "      <th>Season Type</th>\n",
       "      <th>Player ID</th>\n",
       "      <th>Player</th>\n",
       "      <th>Team ID</th>\n",
       "      <th>Team</th>\n",
       "      <th>Games Played</th>\n",
       "      <th>Minutes Played</th>\n",
       "      <th>...</th>\n",
       "      <th>Rebounds</th>\n",
       "      <th>Assists</th>\n",
       "      <th>Steals</th>\n",
       "      <th>Blocks</th>\n",
       "      <th>Turnovers</th>\n",
       "      <th>Personal Fouls</th>\n",
       "      <th>Points Scored</th>\n",
       "      <th>Efficency</th>\n",
       "      <th>AST/TOV</th>\n",
       "      <th>STL/TOV</th>\n",
       "    </tr>\n",
       "  </thead>\n",
       "  <tbody>\n",
       "    <tr>\n",
       "      <th>0</th>\n",
       "      <td>1</td>\n",
       "      <td>1951-52</td>\n",
       "      <td>1951</td>\n",
       "      <td>Regular Season</td>\n",
       "      <td>76056</td>\n",
       "      <td>Paul Arizin</td>\n",
       "      <td>1610612744</td>\n",
       "      <td>PHW</td>\n",
       "      <td>66</td>\n",
       "      <td>2939</td>\n",
       "      <td>...</td>\n",
       "      <td>745</td>\n",
       "      <td>170</td>\n",
       "      <td>NaN</td>\n",
       "      <td>NaN</td>\n",
       "      <td>NaN</td>\n",
       "      <td>250</td>\n",
       "      <td>1674</td>\n",
       "      <td>1786</td>\n",
       "      <td>NaN</td>\n",
       "      <td>NaN</td>\n",
       "    </tr>\n",
       "    <tr>\n",
       "      <th>1</th>\n",
       "      <td>2</td>\n",
       "      <td>1951-52</td>\n",
       "      <td>1951</td>\n",
       "      <td>Regular Season</td>\n",
       "      <td>600012</td>\n",
       "      <td>George Mikan</td>\n",
       "      <td>1610612747</td>\n",
       "      <td>MNL</td>\n",
       "      <td>64</td>\n",
       "      <td>2572</td>\n",
       "      <td>...</td>\n",
       "      <td>866</td>\n",
       "      <td>194</td>\n",
       "      <td>NaN</td>\n",
       "      <td>NaN</td>\n",
       "      <td>NaN</td>\n",
       "      <td>286</td>\n",
       "      <td>1523</td>\n",
       "      <td>1592</td>\n",
       "      <td>NaN</td>\n",
       "      <td>NaN</td>\n",
       "    </tr>\n",
       "    <tr>\n",
       "      <th>2</th>\n",
       "      <td>3</td>\n",
       "      <td>1951-52</td>\n",
       "      <td>1951</td>\n",
       "      <td>Regular Season</td>\n",
       "      <td>600003</td>\n",
       "      <td>Bob Cousy</td>\n",
       "      <td>1610612738</td>\n",
       "      <td>BOS</td>\n",
       "      <td>66</td>\n",
       "      <td>2681</td>\n",
       "      <td>...</td>\n",
       "      <td>421</td>\n",
       "      <td>441</td>\n",
       "      <td>NaN</td>\n",
       "      <td>NaN</td>\n",
       "      <td>NaN</td>\n",
       "      <td>190</td>\n",
       "      <td>1433</td>\n",
       "      <td>1322</td>\n",
       "      <td>NaN</td>\n",
       "      <td>NaN</td>\n",
       "    </tr>\n",
       "    <tr>\n",
       "      <th>3</th>\n",
       "      <td>4</td>\n",
       "      <td>1951-52</td>\n",
       "      <td>1951</td>\n",
       "      <td>Regular Season</td>\n",
       "      <td>77429</td>\n",
       "      <td>Ed Macauley</td>\n",
       "      <td>1610612738</td>\n",
       "      <td>BOS</td>\n",
       "      <td>66</td>\n",
       "      <td>2631</td>\n",
       "      <td>...</td>\n",
       "      <td>529</td>\n",
       "      <td>232</td>\n",
       "      <td>NaN</td>\n",
       "      <td>NaN</td>\n",
       "      <td>NaN</td>\n",
       "      <td>174</td>\n",
       "      <td>1264</td>\n",
       "      <td>1396</td>\n",
       "      <td>NaN</td>\n",
       "      <td>NaN</td>\n",
       "    </tr>\n",
       "    <tr>\n",
       "      <th>4</th>\n",
       "      <td>5</td>\n",
       "      <td>1951-52</td>\n",
       "      <td>1951</td>\n",
       "      <td>Regular Season</td>\n",
       "      <td>76514</td>\n",
       "      <td>Bob Davies</td>\n",
       "      <td>1610612758</td>\n",
       "      <td>ROC</td>\n",
       "      <td>65</td>\n",
       "      <td>2394</td>\n",
       "      <td>...</td>\n",
       "      <td>189</td>\n",
       "      <td>390</td>\n",
       "      <td>NaN</td>\n",
       "      <td>NaN</td>\n",
       "      <td>NaN</td>\n",
       "      <td>269</td>\n",
       "      <td>1052</td>\n",
       "      <td>935</td>\n",
       "      <td>NaN</td>\n",
       "      <td>NaN</td>\n",
       "    </tr>\n",
       "  </tbody>\n",
       "</table>\n",
       "<p>5 rows × 31 columns</p>\n",
       "</div>"
      ],
      "text/plain": [
       "   Rank     Year  Season Start Year     Season Type  Player ID        Player  \\\n",
       "0     1  1951-52               1951  Regular Season      76056   Paul Arizin   \n",
       "1     2  1951-52               1951  Regular Season     600012  George Mikan   \n",
       "2     3  1951-52               1951  Regular Season     600003     Bob Cousy   \n",
       "3     4  1951-52               1951  Regular Season      77429   Ed Macauley   \n",
       "4     5  1951-52               1951  Regular Season      76514    Bob Davies   \n",
       "\n",
       "      Team ID Team  Games Played  Minutes Played  ...  Rebounds  Assists  \\\n",
       "0  1610612744  PHW            66            2939  ...       745      170   \n",
       "1  1610612747  MNL            64            2572  ...       866      194   \n",
       "2  1610612738  BOS            66            2681  ...       421      441   \n",
       "3  1610612738  BOS            66            2631  ...       529      232   \n",
       "4  1610612758  ROC            65            2394  ...       189      390   \n",
       "\n",
       "   Steals  Blocks  Turnovers  Personal Fouls  Points Scored  Efficency  \\\n",
       "0     NaN     NaN        NaN             250           1674       1786   \n",
       "1     NaN     NaN        NaN             286           1523       1592   \n",
       "2     NaN     NaN        NaN             190           1433       1322   \n",
       "3     NaN     NaN        NaN             174           1264       1396   \n",
       "4     NaN     NaN        NaN             269           1052        935   \n",
       "\n",
       "   AST/TOV  STL/TOV  \n",
       "0      NaN      NaN  \n",
       "1      NaN      NaN  \n",
       "2      NaN      NaN  \n",
       "3      NaN      NaN  \n",
       "4      NaN      NaN  \n",
       "\n",
       "[5 rows x 31 columns]"
      ]
     },
     "execution_count": 13,
     "metadata": {},
     "output_type": "execute_result"
    }
   ],
   "source": [
    "app_train.head()"
   ]
  },
  {
   "cell_type": "markdown",
   "metadata": {},
   "source": [
    "### 如果沒有想法，可以先嘗試找出剛剛例子中提到的問題的答案\n",
    "#### 資料的 row 數以及 column 數"
   ]
  },
  {
   "cell_type": "code",
   "execution_count": 18,
   "metadata": {},
   "outputs": [
    {
     "name": "stdout",
     "output_type": "stream",
     "text": [
      "row is 33329\n",
      "column is 31\n"
     ]
    }
   ],
   "source": [
    "row, column = app_train.shape\n",
    "print('row is', row)\n",
    "print('column is', column)"
   ]
  },
  {
   "cell_type": "markdown",
   "metadata": {},
   "source": [
    "#### 列出所有欄位"
   ]
  },
  {
   "cell_type": "code",
   "execution_count": 21,
   "metadata": {},
   "outputs": [
    {
     "name": "stdout",
     "output_type": "stream",
     "text": [
      "Index(['Rank', 'Year', 'Season Start Year', 'Season Type', 'Player ID',\n",
      "       'Player', 'Team ID', 'Team', 'Games Played', 'Minutes Played',\n",
      "       'FG Made', 'FG Attempts', 'FG %', '3-Pt FG Made', '3-Pt FG Attempts',\n",
      "       '3-Pt FG %', 'FT Made', 'FT Attempts', 'FT %', 'Offensive Rebounds',\n",
      "       'Defensive Rebounds', 'Rebounds', 'Assists', 'Steals', 'Blocks',\n",
      "       'Turnovers', 'Personal Fouls', 'Points Scored', 'Efficency', 'AST/TOV',\n",
      "       'STL/TOV'],\n",
      "      dtype='object')\n"
     ]
    }
   ],
   "source": [
    "print(app_train.columns)"
   ]
  },
  {
   "cell_type": "markdown",
   "metadata": {},
   "source": [
    "#### 截取部分資料"
   ]
  },
  {
   "cell_type": "code",
   "execution_count": 25,
   "metadata": {},
   "outputs": [
    {
     "name": "stdout",
     "output_type": "stream",
     "text": [
      "   Rank     Year  Season Start Year     Season Type  Player ID        Player  \\\n",
      "0     1  1951-52               1951  Regular Season      76056   Paul Arizin   \n",
      "1     2  1951-52               1951  Regular Season     600012  George Mikan   \n",
      "2     3  1951-52               1951  Regular Season     600003     Bob Cousy   \n",
      "3     4  1951-52               1951  Regular Season      77429   Ed Macauley   \n",
      "4     5  1951-52               1951  Regular Season      76514    Bob Davies   \n",
      "\n",
      "      Team ID Team  Games Played  Minutes Played  ...  Rebounds  Assists  \\\n",
      "0  1610612744  PHW            66            2939  ...       745      170   \n",
      "1  1610612747  MNL            64            2572  ...       866      194   \n",
      "2  1610612738  BOS            66            2681  ...       421      441   \n",
      "3  1610612738  BOS            66            2631  ...       529      232   \n",
      "4  1610612758  ROC            65            2394  ...       189      390   \n",
      "\n",
      "   Steals  Blocks  Turnovers  Personal Fouls  Points Scored  Efficency  \\\n",
      "0     NaN     NaN        NaN             250           1674       1786   \n",
      "1     NaN     NaN        NaN             286           1523       1592   \n",
      "2     NaN     NaN        NaN             190           1433       1322   \n",
      "3     NaN     NaN        NaN             174           1264       1396   \n",
      "4     NaN     NaN        NaN             269           1052        935   \n",
      "\n",
      "   AST/TOV  STL/TOV  \n",
      "0      NaN      NaN  \n",
      "1      NaN      NaN  \n",
      "2      NaN      NaN  \n",
      "3      NaN      NaN  \n",
      "4      NaN      NaN  \n",
      "\n",
      "[5 rows x 31 columns]\n"
     ]
    }
   ],
   "source": [
    "print(app_train.head(5)) # 顯示前五行"
   ]
  },
  {
   "cell_type": "code",
   "execution_count": 27,
   "metadata": {
    "scrolled": true
   },
   "outputs": [
    {
     "name": "stdout",
     "output_type": "stream",
     "text": [
      "       Rank     Year  Season Start Year Season Type  Player ID  \\\n",
      "33324   194  2022-23               2022    Playoffs     203496   \n",
      "33325   194  2022-23               2022    Playoffs     203648   \n",
      "33326   194  2022-23               2022    Playoffs       2617   \n",
      "33327   194  2022-23               2022    Playoffs    1628427   \n",
      "33328   194  2022-23               2022    Playoffs    1631111   \n",
      "\n",
      "                       Player     Team ID Team  Games Played  Minutes Played  \\\n",
      "33324        Robert Covington  1610612746  LAC             2              12   \n",
      "33325  Thanasis Antetokounmpo  1610612749  MIL             2               5   \n",
      "33326           Udonis Haslem  1610612748  MIA             1               2   \n",
      "33327           Vlatko Cancar  1610612743  DEN             4              10   \n",
      "33328       Wendell Moore Jr.  1610612750  MIN             1               2   \n",
      "\n",
      "       ...  Rebounds  Assists  Steals  Blocks  Turnovers  Personal Fouls  \\\n",
      "33324  ...         2        2     0.0     1.0        0.0               2   \n",
      "33325  ...         0        0     0.0     0.0        0.0               0   \n",
      "33326  ...         1        0     0.0     0.0        0.0               0   \n",
      "33327  ...         3        1     0.0     0.0        0.0               0   \n",
      "33328  ...         0        0     0.0     0.0        1.0               0   \n",
      "\n",
      "       Points Scored  Efficency  AST/TOV  STL/TOV  \n",
      "33324              0          2      0.0      0.0  \n",
      "33325              0          0      0.0      0.0  \n",
      "33326              0         -1      0.0      0.0  \n",
      "33327              0         -1      0.0      0.0  \n",
      "33328              0         -1      0.0      0.0  \n",
      "\n",
      "[5 rows x 31 columns]\n"
     ]
    }
   ],
   "source": [
    "print(app_train.tail(5))"
   ]
  },
  {
   "cell_type": "markdown",
   "metadata": {},
   "source": [
    "#### 還有各種數之不盡的資料操作，重點還是取決於實務中遇到的狀況和你想問的問題，在馬拉松中我們也會陸續提到更多例子"
   ]
  }
 ],
 "metadata": {
  "kernelspec": {
   "display_name": "Python 3",
   "language": "python",
   "name": "python3"
  },
  "language_info": {
   "codemirror_mode": {
    "name": "ipython",
    "version": 3
   },
   "file_extension": ".py",
   "mimetype": "text/x-python",
   "name": "python",
   "nbconvert_exporter": "python",
   "pygments_lexer": "ipython3",
   "version": "3.7.6"
  }
 },
 "nbformat": 4,
 "nbformat_minor": 2
}
